{
 "cells": [
  {
   "cell_type": "code",
   "execution_count": null,
   "id": "dc4791de-3728-47ea-8cae-fe293fa53653",
   "metadata": {},
   "outputs": [],
   "source": []
  },
  {
   "cell_type": "code",
   "execution_count": null,
   "id": "6d637f7f-266d-48ac-ac4b-737b10cb82aa",
   "metadata": {},
   "outputs": [],
   "source": []
  },
  {
   "cell_type": "code",
   "execution_count": null,
   "id": "3feb66ec-f6fc-4dfb-8942-da901ce3e284",
   "metadata": {},
   "outputs": [],
   "source": []
  },
  {
   "cell_type": "code",
   "execution_count": null,
   "id": "7a286a93-4e40-41c9-ae0f-e623dbac72b8",
   "metadata": {},
   "outputs": [],
   "source": [
    "Title: MOVIE GENRE CLASSIFICATION"
   ]
  },
  {
   "cell_type": "markdown",
   "id": "bc8bdcd8-5459-4769-9598-2bc6b61b362a",
   "metadata": {},
   "source": [
    "# 1. Understand the Problem"
   ]
  },
  {
   "cell_type": "markdown",
   "id": "41876af1-399e-4ad9-9ea2-82657dbaa5f8",
   "metadata": {},
   "source": [
    "### Objective:\n",
    "Predict the genre(s) of a movie based on its plot summary or other textual information.\n",
    "\n",
    "#### Genres to Predict:\n",
    "Movies can belong to multiple genres (e.g., Action, Comedy, Drama). For simplicity, you can start by predicting a single genre per movie or handle multi-label classification where a movie can belong to multiple genres."
   ]
  },
  {
   "cell_type": "code",
   "execution_count": null,
   "id": "46365d97-ce46-4f6b-819d-7ba782c61ad6",
   "metadata": {},
   "outputs": [],
   "source": []
  },
  {
   "cell_type": "markdown",
   "id": "07e233b6-c835-46d3-ae93-64756a4ca2f7",
   "metadata": {},
   "source": [
    "# 2. Set Up Your Development Environment\n",
    "\n",
    "### Tools and Libraries:\n",
    "\n",
    "* Programming Language: Python\n",
    "* IDE: Jupyter Notebook\n",
    "* Libraries:\n",
    "  * pandas for data manipulation\n",
    "  * numpy for numerical operations\n",
    "  * scikit-learn for machine learning algorithms\n",
    "  * nlt for text preprocessing\n",
    "  * matplotlib or seaborn for data visualization\n",
    "\n",
    "### Installation:\n",
    "\n",
    "You can install the necessary libraries using pip. Open your terminal or command prompt and run:"
   ]
  },
  {
   "cell_type": "code",
   "execution_count": 5,
   "id": "2129d941-f3dd-44d0-a496-ed7f749c4bc1",
   "metadata": {},
   "outputs": [
    {
     "name": "stdout",
     "output_type": "stream",
     "text": [
      "Requirement already satisfied: nltk in c:\\users\\nagendra\\anaconda3\\lib\\site-packages (3.8.1)Note: you may need to restart the kernel to use updated packages.\n",
      "\n",
      "Requirement already satisfied: click in c:\\users\\nagendra\\anaconda3\\lib\\site-packages (from nltk) (8.1.7)\n",
      "Requirement already satisfied: joblib in c:\\users\\nagendra\\anaconda3\\lib\\site-packages (from nltk) (1.4.2)\n",
      "Requirement already satisfied: regex>=2021.8.3 in c:\\users\\nagendra\\anaconda3\\lib\\site-packages (from nltk) (2023.10.3)\n",
      "Requirement already satisfied: tqdm in c:\\users\\nagendra\\anaconda3\\lib\\site-packages (from nltk) (4.66.4)\n",
      "Requirement already satisfied: colorama in c:\\users\\nagendra\\anaconda3\\lib\\site-packages (from click->nltk) (0.4.6)\n"
     ]
    }
   ],
   "source": [
    "pip install  nltk \n"
   ]
  },
  {
   "cell_type": "markdown",
   "id": "8392253a-ee9e-4387-8e08-a87b23c398c1",
   "metadata": {},
   "source": [
    "## Set Up NLTK (Optional):\n",
    "\n",
    "  * If you choose to use NLTK for text preprocessing, download the necessary datasets:"
   ]
  },
  {
   "cell_type": "code",
   "execution_count": 1,
   "id": "b48959f5-1bfd-4ccf-9d5d-f5dc17510da9",
   "metadata": {},
   "outputs": [
    {
     "name": "stderr",
     "output_type": "stream",
     "text": [
      "[nltk_data] Downloading package punkt to\n",
      "[nltk_data]     C:\\Users\\Nagendra\\AppData\\Roaming\\nltk_data...\n",
      "[nltk_data]   Package punkt is already up-to-date!\n",
      "[nltk_data] Downloading package stopwords to\n",
      "[nltk_data]     C:\\Users\\Nagendra\\AppData\\Roaming\\nltk_data...\n",
      "[nltk_data]   Package stopwords is already up-to-date!\n"
     ]
    },
    {
     "data": {
      "text/plain": [
       "True"
      ]
     },
     "execution_count": 1,
     "metadata": {},
     "output_type": "execute_result"
    }
   ],
   "source": [
    "import nltk\n",
    "nltk.download('punkt')\n",
    "nltk.download('stopwords')"
   ]
  },
  {
   "cell_type": "code",
   "execution_count": null,
   "id": "6495d95e-f7bf-46a6-a047-beeb1c854350",
   "metadata": {},
   "outputs": [],
   "source": []
  },
  {
   "cell_type": "markdown",
   "id": "49ff34b3-a061-43f6-a375-61ff9f5f553d",
   "metadata": {},
   "source": [
    "# 3. Collect and Prepare the Data\n",
    "\n",
    "* Data Source:\n",
    " You need a dataset that contains movie plot summaries and their corresponding genres. One popular source is the IMDB dataset, but for ease, you can \n",
    " use datasets from platforms like Kaggle.\n",
    "\n",
    "*  Dataset:\n",
    "For this project, i can use the IMDB Movie Dataset  that includes plot summaries and genres.\n",
    "\n"
   ]
  },
  {
   "cell_type": "code",
   "execution_count": 3,
   "id": "941a7de1-3c45-4423-85dd-22dde1b4b08b",
   "metadata": {},
   "outputs": [],
   "source": [
    "import pandas as pd \n",
    "import numpy as np \n",
    "import matplotlib.pyplot as plt \n",
    "import seaborn as sns "
   ]
  },
  {
   "cell_type": "code",
   "execution_count": null,
   "id": "be8afceb-1956-4abc-9e69-c358d5209604",
   "metadata": {},
   "outputs": [],
   "source": []
  },
  {
   "cell_type": "code",
   "execution_count": 7,
   "id": "d5583ab3-8352-4c29-875a-d35ad8faf06d",
   "metadata": {},
   "outputs": [
    {
     "name": "stderr",
     "output_type": "stream",
     "text": [
      "C:\\Users\\Nagendra\\AppData\\Local\\Temp\\ipykernel_5864\\824563583.py:3: ParserWarning: Falling back to the 'python' engine because the 'c' engine does not support regex separators (separators > 1 char and different from '\\s+' are interpreted as regex); you can avoid this warning by specifying engine='python'.\n",
      "  df = pd.read_csv(r\"C:\\Machine Learning\\codesoft\\MOVIE GENRE_ml\\archive (2)\\Genre Classification Dataset\\train_data.txt\", delimiter=\":::\", encoding=\"utf-8\")\n"
     ]
    },
    {
     "name": "stdout",
     "output_type": "stream",
     "text": [
      "   ID                               TITLE       GENRE   \\\n",
      "0    1       Oscar et la dame rose (2009)       drama    \n",
      "1    2                       Cupid (1997)    thriller    \n",
      "2    3   Young, Wild and Wonderful (1980)       adult    \n",
      "3    4              The Secret Sin (1915)       drama    \n",
      "4    5             The Unrecovered (2007)       drama    \n",
      "\n",
      "                                         DESCRIPTION  \n",
      "0   Listening in to a conversation between his do...  \n",
      "1   A brother and sister with a past incestuous r...  \n",
      "2   As the bus empties the students for their fie...  \n",
      "3   To help their unemployed father make ends mee...  \n",
      "4   The film's title refers not only to the un-re...  \n"
     ]
    }
   ],
   "source": [
    "# Load the Dataset:\n",
    "\n",
    "df = pd.read_csv(r\"C:\\Machine Learning\\codesoft\\MOVIE GENRE_ml\\archive (2)\\Genre Classification Dataset\\train_data.txt\", delimiter=\":::\", encoding=\"utf-8\")\n",
    "\n",
    "# Preview the data\n",
    "print(df.head())"
   ]
  },
  {
   "cell_type": "code",
   "execution_count": 9,
   "id": "94dad64f-a1de-491e-a4bf-17a196d1206e",
   "metadata": {},
   "outputs": [
    {
     "name": "stdout",
     "output_type": "stream",
     "text": [
      "<class 'pandas.core.frame.DataFrame'>\n",
      "RangeIndex: 54214 entries, 0 to 54213\n",
      "Data columns (total 4 columns):\n",
      " #   Column        Non-Null Count  Dtype \n",
      "---  ------        --------------  ----- \n",
      " 0   ID            54214 non-null  int64 \n",
      " 1    TITLE        54214 non-null  object\n",
      " 2    GENRE        54214 non-null  object\n",
      " 3    DESCRIPTION  54214 non-null  object\n",
      "dtypes: int64(1), object(3)\n",
      "memory usage: 1.7+ MB\n"
     ]
    }
   ],
   "source": [
    "df.info()"
   ]
  },
  {
   "cell_type": "markdown",
   "id": "765bd980-590c-48f1-8dd8-29dc3b5f1e96",
   "metadata": {},
   "source": [
    "### Understand the Data:\n",
    "   Ensure that the dataset has the necessary columns, such as:\n",
    "\n",
    "* plot_summary or description\n",
    "* genres"
   ]
  },
  {
   "cell_type": "code",
   "execution_count": null,
   "id": "a88eb099-7f5a-49de-948b-e2f556d0f7a0",
   "metadata": {},
   "outputs": [],
   "source": []
  },
  {
   "cell_type": "code",
   "execution_count": 11,
   "id": "e92a6f4b-4f3e-4c72-bf59-34abae638491",
   "metadata": {},
   "outputs": [],
   "source": [
    "df.columns = df.columns.str.strip()"
   ]
  },
  {
   "cell_type": "code",
   "execution_count": 13,
   "id": "06fdec80-6e09-40ae-b782-3fd22db549ba",
   "metadata": {},
   "outputs": [
    {
     "data": {
      "text/plain": [
       "Index(['ID', 'TITLE', 'GENRE', 'DESCRIPTION'], dtype='object')"
      ]
     },
     "execution_count": 13,
     "metadata": {},
     "output_type": "execute_result"
    }
   ],
   "source": [
    "df.columns"
   ]
  },
  {
   "cell_type": "code",
   "execution_count": null,
   "id": "8c7779db-bb22-4af9-a800-bd72e76012a4",
   "metadata": {},
   "outputs": [],
   "source": []
  },
  {
   "cell_type": "markdown",
   "id": "c1496cff-6092-4cc1-afaa-03c66739abbf",
   "metadata": {},
   "source": [
    "### Handle Missing Values:"
   ]
  },
  {
   "cell_type": "code",
   "execution_count": 15,
   "id": "0c80148b-d82c-4eac-86a3-ad873f8480be",
   "metadata": {},
   "outputs": [
    {
     "name": "stdout",
     "output_type": "stream",
     "text": [
      "ID             0\n",
      "TITLE          0\n",
      "GENRE          0\n",
      "DESCRIPTION    0\n",
      "dtype: int64\n"
     ]
    }
   ],
   "source": [
    "\n",
    "# Check for missing values\n",
    "print(df.isnull().sum())"
   ]
  },
  {
   "cell_type": "code",
   "execution_count": 17,
   "id": "a7dfb4c7-9e99-4f1a-89b8-a7dd3a42c194",
   "metadata": {},
   "outputs": [
    {
     "data": {
      "text/plain": [
       "ID              int64\n",
       "TITLE          object\n",
       "GENRE          object\n",
       "DESCRIPTION    object\n",
       "dtype: object"
      ]
     },
     "execution_count": 17,
     "metadata": {},
     "output_type": "execute_result"
    }
   ],
   "source": [
    "df.dtypes"
   ]
  },
  {
   "cell_type": "code",
   "execution_count": null,
   "id": "40441de7-9231-48c5-bfd3-36e8663ef8aa",
   "metadata": {},
   "outputs": [],
   "source": []
  },
  {
   "cell_type": "code",
   "execution_count": 19,
   "id": "ffef5215-2bdb-4f09-a201-ab730d54b398",
   "metadata": {},
   "outputs": [
    {
     "name": "stdout",
     "output_type": "stream",
     "text": [
      "categories: [' drama ' ' thriller ' ' adult ' ' documentary ' ' comedy ' ' crime '\n",
      " ' reality-tv ' ' horror ' ' sport ' ' animation ' ' action ' ' fantasy '\n",
      " ' short ' ' sci-fi ' ' music ' ' adventure ' ' talk-show ' ' western '\n",
      " ' family ' ' mystery ' ' history ' ' news ' ' biography ' ' romance '\n",
      " ' game-show ' ' musical ' ' war '], values: GENRE\n",
      "drama           13613\n",
      "documentary     13096\n",
      "comedy           7447\n",
      "short            5073\n",
      "horror           2204\n",
      "thriller         1591\n",
      "action           1315\n",
      "western          1032\n",
      "reality-tv        884\n",
      "family            784\n",
      "adventure         775\n",
      "music             731\n",
      "romance           672\n",
      "sci-fi            647\n",
      "adult             590\n",
      "crime             505\n",
      "animation         498\n",
      "sport             432\n",
      "talk-show         391\n",
      "fantasy           323\n",
      "mystery           319\n",
      "musical           277\n",
      "biography         265\n",
      "history           243\n",
      "game-show         194\n",
      "news              181\n",
      "war               132\n",
      "Name: count, dtype: int64\n"
     ]
    }
   ],
   "source": [
    "categories = df['GENRE'].unique()\n",
    "values = df['GENRE'].value_counts()\n",
    "\n",
    "# Corrected print statement using f-string\n",
    "print(f\"categories: {categories}, values: {values}\")"
   ]
  },
  {
   "cell_type": "code",
   "execution_count": null,
   "id": "d3e87534-ba6d-4cab-b5cf-c2afc9b8abf4",
   "metadata": {},
   "outputs": [],
   "source": []
  },
  {
   "cell_type": "markdown",
   "id": "22386189-4191-459c-bb9e-41bc8474f0fb",
   "metadata": {},
   "source": [
    "# data visualization"
   ]
  },
  {
   "cell_type": "code",
   "execution_count": null,
   "id": "2df4413d-b36a-4bec-b38e-d5040d32c0fc",
   "metadata": {},
   "outputs": [],
   "source": [
    "# countplot()"
   ]
  },
  {
   "cell_type": "code",
   "execution_count": 21,
   "id": "8a37e3b9-db83-40cf-b782-2b8439b248b5",
   "metadata": {},
   "outputs": [
    {
     "data": {
      "image/png": "[encoded data removed]",
      "text/plain": [
       "<Figure size 2000x1000 with 1 Axes>"
      ]
     },
     "metadata": {},
     "output_type": "display_data"
    }
   ],
   "source": [
    "plt.figure(figsize=(20, 10))\n",
    "\n",
    "# Use Seaborn color palette\n",
    "colors = sns.color_palette('viridis', len(df['GENRE'].value_counts()))\n",
    "\n",
    "sns.countplot(\n",
    "    data=df, \n",
    "    y='GENRE', \n",
    "    order=df['GENRE'].value_counts().index, \n",
    "    palette=colors,  # Apply the color palette\n",
    "    hue='GENRE',  # Explicitly set hue to the same variable\n",
    "    dodge=False  # Ensure bars don’t stack since `hue` is used\n",
    ")\n",
    "plt.legend([], [], frameon=False)  # Remove legend\n",
    "\n",
    "plt.title('Number Of Movies By Genre', fontsize=20)\n",
    "plt.ylabel('GENRE', fontsize=16)\n",
    "plt.xlabel('Number Of Movies', fontsize=16)\n",
    "\n",
    "ax = plt.gca()\n",
    "ax.set_xticks([])\n",
    "ax.spines['top'].set_visible(False)\n",
    "ax.spines['right'].set_visible(False)\n",
    "ax.spines['bottom'].set_visible(False)\n",
    "\n",
    "# Add annotations for each bar\n",
    "for p in ax.patches:\n",
    "    ax.annotate(\n",
    "        f'{int(p.get_width())}', \n",
    "        (p.get_width(), p.get_y() + p.get_height() / 2), \n",
    "        ha='center', va='center', \n",
    "        fontsize=12, color='black', \n",
    "        xytext=(20, 0), textcoords='offset points'\n",
    "    )\n",
    "\n",
    "plt.show()\n"
   ]
  },
  {
   "cell_type": "code",
   "execution_count": null,
   "id": "628e9592-0f55-4a35-afa8-6561dcb9f190",
   "metadata": {},
   "outputs": [],
   "source": [
    "# WordCloud (Creative and Unique)"
   ]
  },
  {
   "cell_type": "code",
   "execution_count": 23,
   "id": "0de11ee8-e151-44ac-bc4a-f92148355fb6",
   "metadata": {},
   "outputs": [
    {
     "data": {
      "image/png": "[encoded data removed]",
      "text/plain": [
       "<Figure size 1000x500 with 1 Axes>"
      ]
     },
     "metadata": {},
     "output_type": "display_data"
    }
   ],
   "source": [
    "from wordcloud import WordCloud\n",
    "\n",
    "# Generate a word cloud\n",
    "text = ' '.join(df['GENRE'])\n",
    "wordcloud = WordCloud(\n",
    "    width=800, \n",
    "    height=400, \n",
    "    background_color='white', \n",
    "    colormap='viridis'\n",
    ").generate(text)\n",
    "\n",
    "# Display the word cloud\n",
    "plt.figure(figsize=(10, 5))\n",
    "plt.imshow(wordcloud, interpolation='bilinear')\n",
    "plt.axis('off')\n",
    "plt.title('Genre Word Cloud', fontsize=16)\n",
    "plt.show()\n"
   ]
  },
  {
   "cell_type": "code",
   "execution_count": null,
   "id": "0ae682dd-362a-4d6f-aef4-c1c34b5dfcba",
   "metadata": {},
   "outputs": [],
   "source": []
  },
  {
   "cell_type": "code",
   "execution_count": null,
   "id": "a76fab2f-74c7-41ef-983b-23a9fed2147f",
   "metadata": {},
   "outputs": [],
   "source": []
  },
  {
   "cell_type": "markdown",
   "id": "d095f7e5-21a0-47c0-9670-4f590d06a277",
   "metadata": {},
   "source": [
    "# 4. Preprocess the Text Data\n",
    "\n",
    "   Text data needs to be cleaned and preprocessed before feeding it into a machine learning model.\n",
    "\n",
    "`**Steps:**`\n",
    "\n",
    "* Lowercasing: Convert all text to lowercase to maintain consistency.\n",
    "* Tokenization: Split text into individual words or tokens.\n",
    "* Removing Punctuation and Numbers: Clean the text by removing unnecessary characters.\n",
    "* Removing Stopwords: Remove common words that do not contribute much to the meaning (e.g., \"and\", \"the\").\n",
    "* Stemming/Lemmatization: Reduce words to their root form.\n",
    "\n",
    "*Example Using NLTK:*"
   ]
  },
  {
   "cell_type": "code",
   "execution_count": null,
   "id": "24a88c50-bd9d-4c91-b10a-e63d50a3a633",
   "metadata": {},
   "outputs": [],
   "source": []
  },
  {
   "cell_type": "code",
   "execution_count": 25,
   "id": "ebd25e01-b181-4a7c-ac82-af12e19056db",
   "metadata": {},
   "outputs": [
    {
     "name": "stderr",
     "output_type": "stream",
     "text": [
      "[nltk_data] Downloading package wordnet to\n",
      "[nltk_data]     C:\\Users\\Nagendra\\AppData\\Roaming\\nltk_data...\n",
      "[nltk_data]   Package wordnet is already up-to-date!\n",
      "[nltk_data] Downloading package stopwords to\n",
      "[nltk_data]     C:\\Users\\Nagendra\\AppData\\Roaming\\nltk_data...\n",
      "[nltk_data]   Package stopwords is already up-to-date!\n"
     ]
    },
    {
     "name": "stdout",
     "output_type": "stream",
     "text": [
      "                                         DESCRIPTION  \\\n",
      "0   Listening in to a conversation between his do...   \n",
      "1   A brother and sister with a past incestuous r...   \n",
      "2   As the bus empties the students for their fie...   \n",
      "3   To help their unemployed father make ends mee...   \n",
      "4   The film's title refers not only to the un-re...   \n",
      "\n",
      "                                   clean_DESCRIPTION  \n",
      "0  listening conversation doctor parent 10yearold...  \n",
      "1  brother sister past incestuous relationship cu...  \n",
      "2  bus empty student field trip museum natural hi...  \n",
      "3  help unemployed father make end meet edith twi...  \n",
      "4  film title refers unrecovered body ground zero...  \n"
     ]
    }
   ],
   "source": [
    "import nltk\n",
    "from nltk.corpus import stopwords\n",
    "from nltk.stem import WordNetLemmatizer\n",
    "import string\n",
    "\n",
    "# Download necessary NLTK data\n",
    "nltk.download('wordnet')\n",
    "nltk.download('stopwords')\n",
    "\n",
    "# Initialize lemmatizer and stopwords\n",
    "lemmatizer = WordNetLemmatizer()\n",
    "stop_words = set(stopwords.words('english'))\n",
    "\n",
    "def preprocess_text(text):\n",
    "    # Lowercase\n",
    "    text = text.lower()\n",
    "    # Remove punctuation\n",
    "    text = text.translate(str.maketrans('', '', string.punctuation))\n",
    "    # Tokenize\n",
    "    tokens = nltk.word_tokenize(text)\n",
    "    # Remove stopwords and lemmatize\n",
    "    tokens = [lemmatizer.lemmatize(word) for word in tokens if word not in stop_words]\n",
    "    # Join back to string\n",
    "    return ' '.join(tokens)\n",
    "\n",
    "# Apply preprocessing to the plot summaries\n",
    "df['clean_DESCRIPTION'] = df['DESCRIPTION'].apply(preprocess_text)\n",
    "\n",
    "print(df[['DESCRIPTION', 'clean_DESCRIPTION']].head())\n"
   ]
  },
  {
   "cell_type": "code",
   "execution_count": 27,
   "id": "c0bb5e25-fe90-4eef-b784-c955f87e2962",
   "metadata": {},
   "outputs": [
    {
     "data": {
      "text/plain": [
       "Index(['ID', 'TITLE', 'GENRE', 'DESCRIPTION', 'clean_DESCRIPTION'], dtype='object')"
      ]
     },
     "execution_count": 27,
     "metadata": {},
     "output_type": "execute_result"
    }
   ],
   "source": [
    "df.columns"
   ]
  },
  {
   "cell_type": "code",
   "execution_count": 31,
   "id": "1a75e966-c4a0-477f-b2a2-2ab5887abcca",
   "metadata": {},
   "outputs": [],
   "source": [
    "df['Description_len'] = df['DESCRIPTION'].apply(len)\n",
    "df['Description_cleand_len'] = df['clean_DESCRIPTION'].apply(len)"
   ]
  },
  {
   "cell_type": "code",
   "execution_count": 33,
   "id": "922f1216-338d-4d1f-84fe-36912a40da82",
   "metadata": {},
   "outputs": [
    {
     "data": {
      "text/html": [
       "<div>\n",
       "<style scoped>\n",
       "    .dataframe tbody tr th:only-of-type {\n",
       "        vertical-align: middle;\n",
       "    }\n",
       "\n",
       "    .dataframe tbody tr th {\n",
       "        vertical-align: top;\n",
       "    }\n",
       "\n",
       "    .dataframe thead th {\n",
       "        text-align: right;\n",
       "    }\n",
       "</style>\n",
       "<table border=\"1\" class=\"dataframe\">\n",
       "  <thead>\n",
       "    <tr style=\"text-align: right;\">\n",
       "      <th></th>\n",
       "      <th>ID</th>\n",
       "      <th>TITLE</th>\n",
       "      <th>GENRE</th>\n",
       "      <th>DESCRIPTION</th>\n",
       "      <th>clean_DESCRIPTION</th>\n",
       "      <th>Description_len</th>\n",
       "      <th>Description_cleand_len</th>\n",
       "    </tr>\n",
       "  </thead>\n",
       "  <tbody>\n",
       "    <tr>\n",
       "      <th>0</th>\n",
       "      <td>1</td>\n",
       "      <td>Oscar et la dame rose (2009)</td>\n",
       "      <td>drama</td>\n",
       "      <td>Listening in to a conversation between his do...</td>\n",
       "      <td>listening conversation doctor parent 10yearold...</td>\n",
       "      <td>546</td>\n",
       "      <td>372</td>\n",
       "    </tr>\n",
       "    <tr>\n",
       "      <th>1</th>\n",
       "      <td>2</td>\n",
       "      <td>Cupid (1997)</td>\n",
       "      <td>thriller</td>\n",
       "      <td>A brother and sister with a past incestuous r...</td>\n",
       "      <td>brother sister past incestuous relationship cu...</td>\n",
       "      <td>184</td>\n",
       "      <td>117</td>\n",
       "    </tr>\n",
       "    <tr>\n",
       "      <th>2</th>\n",
       "      <td>3</td>\n",
       "      <td>Young, Wild and Wonderful (1980)</td>\n",
       "      <td>adult</td>\n",
       "      <td>As the bus empties the students for their fie...</td>\n",
       "      <td>bus empty student field trip museum natural hi...</td>\n",
       "      <td>650</td>\n",
       "      <td>386</td>\n",
       "    </tr>\n",
       "    <tr>\n",
       "      <th>3</th>\n",
       "      <td>4</td>\n",
       "      <td>The Secret Sin (1915)</td>\n",
       "      <td>drama</td>\n",
       "      <td>To help their unemployed father make ends mee...</td>\n",
       "      <td>help unemployed father make end meet edith twi...</td>\n",
       "      <td>1082</td>\n",
       "      <td>728</td>\n",
       "    </tr>\n",
       "    <tr>\n",
       "      <th>4</th>\n",
       "      <td>5</td>\n",
       "      <td>The Unrecovered (2007)</td>\n",
       "      <td>drama</td>\n",
       "      <td>The film's title refers not only to the un-re...</td>\n",
       "      <td>film title refers unrecovered body ground zero...</td>\n",
       "      <td>625</td>\n",
       "      <td>421</td>\n",
       "    </tr>\n",
       "    <tr>\n",
       "      <th>...</th>\n",
       "      <td>...</td>\n",
       "      <td>...</td>\n",
       "      <td>...</td>\n",
       "      <td>...</td>\n",
       "      <td>...</td>\n",
       "      <td>...</td>\n",
       "      <td>...</td>\n",
       "    </tr>\n",
       "    <tr>\n",
       "      <th>54209</th>\n",
       "      <td>54210</td>\n",
       "      <td>\"Bonino\" (1953)</td>\n",
       "      <td>comedy</td>\n",
       "      <td>This short-lived NBC live sitcom centered on ...</td>\n",
       "      <td>shortlived nbc live sitcom centered bonino wor...</td>\n",
       "      <td>507</td>\n",
       "      <td>337</td>\n",
       "    </tr>\n",
       "    <tr>\n",
       "      <th>54210</th>\n",
       "      <td>54211</td>\n",
       "      <td>Dead Girls Don't Cry (????)</td>\n",
       "      <td>horror</td>\n",
       "      <td>The NEXT Generation of EXPLOITATION. The sist...</td>\n",
       "      <td>next generation exploitation sister kapa bay s...</td>\n",
       "      <td>781</td>\n",
       "      <td>546</td>\n",
       "    </tr>\n",
       "    <tr>\n",
       "      <th>54211</th>\n",
       "      <td>54212</td>\n",
       "      <td>Ronald Goedemondt: Ze bestaan echt (2008)</td>\n",
       "      <td>documentary</td>\n",
       "      <td>Ze bestaan echt, is a stand-up comedy about g...</td>\n",
       "      <td>ze bestaan echt standup comedy growing facing ...</td>\n",
       "      <td>255</td>\n",
       "      <td>123</td>\n",
       "    </tr>\n",
       "    <tr>\n",
       "      <th>54212</th>\n",
       "      <td>54213</td>\n",
       "      <td>Make Your Own Bed (1944)</td>\n",
       "      <td>comedy</td>\n",
       "      <td>Walter and Vivian live in the country and hav...</td>\n",
       "      <td>walter vivian live country difficult time keep...</td>\n",
       "      <td>642</td>\n",
       "      <td>394</td>\n",
       "    </tr>\n",
       "    <tr>\n",
       "      <th>54213</th>\n",
       "      <td>54214</td>\n",
       "      <td>Nature's Fury: Storm of the Century (2006)</td>\n",
       "      <td>history</td>\n",
       "      <td>On Labor Day Weekend, 1935, the most intense ...</td>\n",
       "      <td>labor day weekend 1935 intense hurricane ever ...</td>\n",
       "      <td>311</td>\n",
       "      <td>222</td>\n",
       "    </tr>\n",
       "  </tbody>\n",
       "</table>\n",
       "<p>54214 rows × 7 columns</p>\n",
       "</div>"
      ],
      "text/plain": [
       "          ID                                         TITLE          GENRE  \\\n",
       "0          1                 Oscar et la dame rose (2009)          drama    \n",
       "1          2                                 Cupid (1997)       thriller    \n",
       "2          3             Young, Wild and Wonderful (1980)          adult    \n",
       "3          4                        The Secret Sin (1915)          drama    \n",
       "4          5                       The Unrecovered (2007)          drama    \n",
       "...      ...                                           ...            ...   \n",
       "54209  54210                              \"Bonino\" (1953)         comedy    \n",
       "54210  54211                  Dead Girls Don't Cry (????)         horror    \n",
       "54211  54212    Ronald Goedemondt: Ze bestaan echt (2008)    documentary    \n",
       "54212  54213                     Make Your Own Bed (1944)         comedy    \n",
       "54213  54214   Nature's Fury: Storm of the Century (2006)        history    \n",
       "\n",
       "                                             DESCRIPTION  \\\n",
       "0       Listening in to a conversation between his do...   \n",
       "1       A brother and sister with a past incestuous r...   \n",
       "2       As the bus empties the students for their fie...   \n",
       "3       To help their unemployed father make ends mee...   \n",
       "4       The film's title refers not only to the un-re...   \n",
       "...                                                  ...   \n",
       "54209   This short-lived NBC live sitcom centered on ...   \n",
       "54210   The NEXT Generation of EXPLOITATION. The sist...   \n",
       "54211   Ze bestaan echt, is a stand-up comedy about g...   \n",
       "54212   Walter and Vivian live in the country and hav...   \n",
       "54213   On Labor Day Weekend, 1935, the most intense ...   \n",
       "\n",
       "                                       clean_DESCRIPTION  Description_len  \\\n",
       "0      listening conversation doctor parent 10yearold...              546   \n",
       "1      brother sister past incestuous relationship cu...              184   \n",
       "2      bus empty student field trip museum natural hi...              650   \n",
       "3      help unemployed father make end meet edith twi...             1082   \n",
       "4      film title refers unrecovered body ground zero...              625   \n",
       "...                                                  ...              ...   \n",
       "54209  shortlived nbc live sitcom centered bonino wor...              507   \n",
       "54210  next generation exploitation sister kapa bay s...              781   \n",
       "54211  ze bestaan echt standup comedy growing facing ...              255   \n",
       "54212  walter vivian live country difficult time keep...              642   \n",
       "54213  labor day weekend 1935 intense hurricane ever ...              311   \n",
       "\n",
       "       Description_cleand_len  \n",
       "0                         372  \n",
       "1                         117  \n",
       "2                         386  \n",
       "3                         728  \n",
       "4                         421  \n",
       "...                       ...  \n",
       "54209                     337  \n",
       "54210                     546  \n",
       "54211                     123  \n",
       "54212                     394  \n",
       "54213                     222  \n",
       "\n",
       "[54214 rows x 7 columns]"
      ]
     },
     "execution_count": 33,
     "metadata": {},
     "output_type": "execute_result"
    }
   ],
   "source": [
    "df"
   ]
  },
  {
   "cell_type": "code",
   "execution_count": null,
   "id": "5155c98d-5240-49ec-a06a-9715fa344792",
   "metadata": {},
   "outputs": [],
   "source": []
  },
  {
   "cell_type": "code",
   "execution_count": null,
   "id": "dd3aa766-22f5-466b-8d2c-3e34722fd418",
   "metadata": {},
   "outputs": [],
   "source": [
    "# kdeplot"
   ]
  },
  {
   "cell_type": "code",
   "execution_count": null,
   "id": "7a66dc57-5f1a-4186-a05a-257db1842cc7",
   "metadata": {},
   "outputs": [],
   "source": [
    "# df_test data "
   ]
  },
  {
   "cell_type": "code",
   "execution_count": 29,
   "id": "f7307823-ed59-4b8c-a098-f179b8db5785",
   "metadata": {},
   "outputs": [
    {
     "data": {
      "text/html": [
       "<div>\n",
       "<style scoped>\n",
       "    .dataframe tbody tr th:only-of-type {\n",
       "        vertical-align: middle;\n",
       "    }\n",
       "\n",
       "    .dataframe tbody tr th {\n",
       "        vertical-align: top;\n",
       "    }\n",
       "\n",
       "    .dataframe thead th {\n",
       "        text-align: right;\n",
       "    }\n",
       "</style>\n",
       "<table border=\"1\" class=\"dataframe\">\n",
       "  <thead>\n",
       "    <tr style=\"text-align: right;\">\n",
       "      <th></th>\n",
       "      <th>ID</th>\n",
       "      <th>TITLE</th>\n",
       "      <th>GENRE</th>\n",
       "      <th>DESCRIPTION</th>\n",
       "      <th>clean_DESCRIPTION</th>\n",
       "    </tr>\n",
       "  </thead>\n",
       "  <tbody>\n",
       "    <tr>\n",
       "      <th>0</th>\n",
       "      <td>1</td>\n",
       "      <td>Oscar et la dame rose (2009)</td>\n",
       "      <td>drama</td>\n",
       "      <td>Listening in to a conversation between his do...</td>\n",
       "      <td>listening conversation doctor parent 10yearold...</td>\n",
       "    </tr>\n",
       "    <tr>\n",
       "      <th>1</th>\n",
       "      <td>2</td>\n",
       "      <td>Cupid (1997)</td>\n",
       "      <td>thriller</td>\n",
       "      <td>A brother and sister with a past incestuous r...</td>\n",
       "      <td>brother sister past incestuous relationship cu...</td>\n",
       "    </tr>\n",
       "    <tr>\n",
       "      <th>2</th>\n",
       "      <td>3</td>\n",
       "      <td>Young, Wild and Wonderful (1980)</td>\n",
       "      <td>adult</td>\n",
       "      <td>As the bus empties the students for their fie...</td>\n",
       "      <td>bus empty student field trip museum natural hi...</td>\n",
       "    </tr>\n",
       "    <tr>\n",
       "      <th>3</th>\n",
       "      <td>4</td>\n",
       "      <td>The Secret Sin (1915)</td>\n",
       "      <td>drama</td>\n",
       "      <td>To help their unemployed father make ends mee...</td>\n",
       "      <td>help unemployed father make end meet edith twi...</td>\n",
       "    </tr>\n",
       "    <tr>\n",
       "      <th>4</th>\n",
       "      <td>5</td>\n",
       "      <td>The Unrecovered (2007)</td>\n",
       "      <td>drama</td>\n",
       "      <td>The film's title refers not only to the un-re...</td>\n",
       "      <td>film title refers unrecovered body ground zero...</td>\n",
       "    </tr>\n",
       "    <tr>\n",
       "      <th>...</th>\n",
       "      <td>...</td>\n",
       "      <td>...</td>\n",
       "      <td>...</td>\n",
       "      <td>...</td>\n",
       "      <td>...</td>\n",
       "    </tr>\n",
       "    <tr>\n",
       "      <th>54209</th>\n",
       "      <td>54210</td>\n",
       "      <td>\"Bonino\" (1953)</td>\n",
       "      <td>comedy</td>\n",
       "      <td>This short-lived NBC live sitcom centered on ...</td>\n",
       "      <td>shortlived nbc live sitcom centered bonino wor...</td>\n",
       "    </tr>\n",
       "    <tr>\n",
       "      <th>54210</th>\n",
       "      <td>54211</td>\n",
       "      <td>Dead Girls Don't Cry (????)</td>\n",
       "      <td>horror</td>\n",
       "      <td>The NEXT Generation of EXPLOITATION. The sist...</td>\n",
       "      <td>next generation exploitation sister kapa bay s...</td>\n",
       "    </tr>\n",
       "    <tr>\n",
       "      <th>54211</th>\n",
       "      <td>54212</td>\n",
       "      <td>Ronald Goedemondt: Ze bestaan echt (2008)</td>\n",
       "      <td>documentary</td>\n",
       "      <td>Ze bestaan echt, is a stand-up comedy about g...</td>\n",
       "      <td>ze bestaan echt standup comedy growing facing ...</td>\n",
       "    </tr>\n",
       "    <tr>\n",
       "      <th>54212</th>\n",
       "      <td>54213</td>\n",
       "      <td>Make Your Own Bed (1944)</td>\n",
       "      <td>comedy</td>\n",
       "      <td>Walter and Vivian live in the country and hav...</td>\n",
       "      <td>walter vivian live country difficult time keep...</td>\n",
       "    </tr>\n",
       "    <tr>\n",
       "      <th>54213</th>\n",
       "      <td>54214</td>\n",
       "      <td>Nature's Fury: Storm of the Century (2006)</td>\n",
       "      <td>history</td>\n",
       "      <td>On Labor Day Weekend, 1935, the most intense ...</td>\n",
       "      <td>labor day weekend 1935 intense hurricane ever ...</td>\n",
       "    </tr>\n",
       "  </tbody>\n",
       "</table>\n",
       "<p>54214 rows × 5 columns</p>\n",
       "</div>"
      ],
      "text/plain": [
       "          ID                                         TITLE          GENRE  \\\n",
       "0          1                 Oscar et la dame rose (2009)          drama    \n",
       "1          2                                 Cupid (1997)       thriller    \n",
       "2          3             Young, Wild and Wonderful (1980)          adult    \n",
       "3          4                        The Secret Sin (1915)          drama    \n",
       "4          5                       The Unrecovered (2007)          drama    \n",
       "...      ...                                           ...            ...   \n",
       "54209  54210                              \"Bonino\" (1953)         comedy    \n",
       "54210  54211                  Dead Girls Don't Cry (????)         horror    \n",
       "54211  54212    Ronald Goedemondt: Ze bestaan echt (2008)    documentary    \n",
       "54212  54213                     Make Your Own Bed (1944)         comedy    \n",
       "54213  54214   Nature's Fury: Storm of the Century (2006)        history    \n",
       "\n",
       "                                             DESCRIPTION  \\\n",
       "0       Listening in to a conversation between his do...   \n",
       "1       A brother and sister with a past incestuous r...   \n",
       "2       As the bus empties the students for their fie...   \n",
       "3       To help their unemployed father make ends mee...   \n",
       "4       The film's title refers not only to the un-re...   \n",
       "...                                                  ...   \n",
       "54209   This short-lived NBC live sitcom centered on ...   \n",
       "54210   The NEXT Generation of EXPLOITATION. The sist...   \n",
       "54211   Ze bestaan echt, is a stand-up comedy about g...   \n",
       "54212   Walter and Vivian live in the country and hav...   \n",
       "54213   On Labor Day Weekend, 1935, the most intense ...   \n",
       "\n",
       "                                       clean_DESCRIPTION  \n",
       "0      listening conversation doctor parent 10yearold...  \n",
       "1      brother sister past incestuous relationship cu...  \n",
       "2      bus empty student field trip museum natural hi...  \n",
       "3      help unemployed father make end meet edith twi...  \n",
       "4      film title refers unrecovered body ground zero...  \n",
       "...                                                  ...  \n",
       "54209  shortlived nbc live sitcom centered bonino wor...  \n",
       "54210  next generation exploitation sister kapa bay s...  \n",
       "54211  ze bestaan echt standup comedy growing facing ...  \n",
       "54212  walter vivian live country difficult time keep...  \n",
       "54213  labor day weekend 1935 intense hurricane ever ...  \n",
       "\n",
       "[54214 rows x 5 columns]"
      ]
     },
     "execution_count": 29,
     "metadata": {},
     "output_type": "execute_result"
    }
   ],
   "source": [
    "df"
   ]
  },
  {
   "cell_type": "code",
   "execution_count": 35,
   "id": "cae1e148-0e32-4240-a57b-da1670a13268",
   "metadata": {},
   "outputs": [
    {
     "data": {
      "text/plain": [
       "<matplotlib.legend.Legend at 0x2c18c8b0230>"
      ]
     },
     "execution_count": 35,
     "metadata": {},
     "output_type": "execute_result"
    },
    {
     "data": {
      "image/png": "[encoded data removed]",
      "text/plain": [
       "<Figure size 1200x600 with 1 Axes>"
      ]
     },
     "metadata": {},
     "output_type": "display_data"
    }
   ],
   "source": [
    "plt.figure(figsize=(12, 6))\n",
    "sns.kdeplot(df['Description_len'], label='Description length',alpha=0.5)\n",
    "sns.kdeplot(df['Description_cleand_len'], label='Description cleaned length',alpha=0.5)\n",
    "ax = plt.gca()\n",
    "#ax.set_xticks([])\n",
    "ax.spines['top'].set_visible(False)\n",
    "ax.spines['right'].set_visible(False)\n",
    "#ax.spines['bottom'].set_visible(False)\n",
    "plt.title('Distribution of Text Lengths')\n",
    "plt.xlabel('Text Length')\n",
    "plt.ylabel('Frequency')\n",
    "plt.legend()"
   ]
  },
  {
   "cell_type": "code",
   "execution_count": null,
   "id": "52c75cee-c0af-404c-bd5e-f512f8bd59f9",
   "metadata": {},
   "outputs": [],
   "source": []
  },
  {
   "cell_type": "code",
   "execution_count": null,
   "id": "7ff9aa44-2f11-4487-bcdc-2d59b4f1f8a8",
   "metadata": {},
   "outputs": [],
   "source": []
  },
  {
   "cell_type": "code",
   "execution_count": null,
   "id": "96cacb0e-250a-4bef-9b04-b81b6ea9d94b",
   "metadata": {},
   "outputs": [],
   "source": []
  },
  {
   "cell_type": "code",
   "execution_count": null,
   "id": "5e26db15-f637-4c42-9da8-4be545f00bc6",
   "metadata": {},
   "outputs": [],
   "source": []
  },
  {
   "cell_type": "markdown",
   "id": "d6222a67-761a-4951-9104-5f61bf21efe5",
   "metadata": {},
   "source": [
    "# 5. Feature Extraction\n",
    "  Convert the textual data into numerical features that machine learning models can understand.\n",
    "\n",
    "`Techniques:`\n",
    "\n",
    "* `TF-IDF` (Term Frequency-Inverse Document Frequency): Measures the importance of a word in a document relative to the entire corpus.\n",
    "* `Word Embeddings:` Represents words in continuous vector space (e.g., Word2Vec, GloVe). More advanced and captures semantic meaning but requires more \n",
    "   processing."
   ]
  },
  {
   "cell_type": "code",
   "execution_count": null,
   "id": "b348691c-c470-41e6-9e62-e7723a689eaa",
   "metadata": {},
   "outputs": [],
   "source": []
  },
  {
   "cell_type": "code",
   "execution_count": 37,
   "id": "3086ea1c-5387-412c-83b8-26ac0c1d3c34",
   "metadata": {},
   "outputs": [
    {
     "name": "stdout",
     "output_type": "stream",
     "text": [
      "(54214, 5000)\n"
     ]
    }
   ],
   "source": [
    "from sklearn.feature_extraction.text import TfidfVectorizer\n",
    "\n",
    "# Initialize TF-IDF Vectorizer\n",
    "tfidf = TfidfVectorizer(max_features=5000)  # You can adjust max_features\n",
    "\n",
    "# Fit and transform the clean_plot\n",
    "X = tfidf.fit_transform(df['clean_DESCRIPTION'])\n",
    "\n",
    "print(X.shape)  # (number of samples, number of features)\n"
   ]
  },
  {
   "cell_type": "code",
   "execution_count": null,
   "id": "5d8bed2b-de8e-4fda-8fed-da3eb83cba22",
   "metadata": {},
   "outputs": [],
   "source": []
  },
  {
   "cell_type": "code",
   "execution_count": null,
   "id": "fc83fd68-ee5b-40f7-bad3-d9284d4e21bd",
   "metadata": {},
   "outputs": [],
   "source": []
  },
  {
   "cell_type": "markdown",
   "id": "375cbe82-1cc3-4615-af4f-63b495d63fd8",
   "metadata": {},
   "source": [
    "# 6. Encode the Target Variable\n",
    "\n",
    "`Genres Encoding:`\n",
    "\n",
    "    Since movies can belong to multiple genres, you can perform multi-label classification. However, to simplify, you can start with single-label classification by selecting the primary genre.\n",
    "\n"
   ]
  },
  {
   "cell_type": "markdown",
   "id": "fda5e0fe-48b3-45b9-88ce-2648ec53ba7a",
   "metadata": {},
   "source": [
    "**Example: Single-Label Classification**"
   ]
  },
  {
   "cell_type": "code",
   "execution_count": 39,
   "id": "e1916db1-b00b-40d1-a3af-1e6dacd86d87",
   "metadata": {},
   "outputs": [
    {
     "name": "stdout",
     "output_type": "stream",
     "text": [
      "['action' 'adult' 'adventure' 'animation' 'biography' 'comedy' 'crime'\n",
      " 'documentary' 'drama' 'family' 'fantasy' 'game-show' 'history' 'horror'\n",
      " 'music' 'musical' 'mystery' 'news' 'reality-tv' 'romance' 'sci-fi'\n",
      " 'short' 'sport' 'talk-show' 'thriller' 'war' 'western']\n"
     ]
    }
   ],
   "source": [
    "# If genres are separated by commas, take the first genre\n",
    "df['primary_genre'] = df['GENRE'].apply(lambda x: x.split(',')[0].strip())\n",
    "\n",
    "# Encode labels\n",
    "from sklearn.preprocessing import LabelEncoder\n",
    "\n",
    "le = LabelEncoder()\n",
    "y = le.fit_transform(df['primary_genre'])\n",
    "\n",
    "print(le.classes_)\n"
   ]
  },
  {
   "cell_type": "code",
   "execution_count": null,
   "id": "bca26c2b-3dd2-4163-8360-6b9e7b0db9f0",
   "metadata": {},
   "outputs": [],
   "source": []
  },
  {
   "cell_type": "markdown",
   "id": "a7df2671-c4af-4211-97f6-a2407d1d1269",
   "metadata": {},
   "source": [
    "**Example: Multi-Label Classification**\n",
    "\n",
    "*If you want to handle multiple genres per movie:*\n",
    "\n"
   ]
  },
  {
   "cell_type": "code",
   "execution_count": 41,
   "id": "5e555a7e-bf9b-48a6-bae2-bc80031fa4bb",
   "metadata": {},
   "outputs": [
    {
     "name": "stdout",
     "output_type": "stream",
     "text": [
      "['action' 'adult' 'adventure' 'animation' 'biography' 'comedy' 'crime'\n",
      " 'documentary' 'drama' 'family' 'fantasy' 'game-show' 'history' 'horror'\n",
      " 'music' 'musical' 'mystery' 'news' 'reality-tv' 'romance' 'sci-fi'\n",
      " 'short' 'sport' 'talk-show' 'thriller' 'war' 'western']\n"
     ]
    }
   ],
   "source": [
    "from sklearn.preprocessing import MultiLabelBinarizer\n",
    "\n",
    "# Split genres into lists\n",
    "df['genres_list'] = df['GENRE'].apply(lambda x: [GENRE.strip() for GENRE in x.split(',')])\n",
    "\n",
    "mlb = MultiLabelBinarizer()\n",
    "y = mlb.fit_transform(df['genres_list'])\n",
    "\n",
    "print(mlb.classes_)\n"
   ]
  },
  {
   "cell_type": "markdown",
   "id": "337b1f8f-302a-4969-bf39-74ae2170450f",
   "metadata": {},
   "source": [
    "## For this guide, we'll proceed with single-label classification."
   ]
  },
  {
   "cell_type": "code",
   "execution_count": null,
   "id": "ee489901-6d0a-4a2b-aa71-2ced730172cc",
   "metadata": {},
   "outputs": [],
   "source": []
  },
  {
   "cell_type": "code",
   "execution_count": null,
   "id": "c2ce7c4e-6f93-4636-93c5-94d1ac39a137",
   "metadata": {},
   "outputs": [],
   "source": []
  },
  {
   "cell_type": "markdown",
   "id": "62eb7593-b3b0-4cfe-b077-22ca53feb898",
   "metadata": {},
   "source": [
    "# 7. Split the Dataset\n",
    "\n",
    "* Divide the data into training and testing sets to evaluate the model's performance."
   ]
  },
  {
   "cell_type": "code",
   "execution_count": 43,
   "id": "4cfa3754-7cd9-4ead-83e8-ed213793a771",
   "metadata": {},
   "outputs": [
    {
     "name": "stdout",
     "output_type": "stream",
     "text": [
      "(43371, 5000) (10843, 5000)\n"
     ]
    }
   ],
   "source": [
    "from sklearn.preprocessing import LabelEncoder\n",
    "\n",
    "# Encode the target variable (GENRE) as numeric labels\n",
    "le = LabelEncoder()\n",
    "y = le.fit_transform(df['GENRE'])  # Converts the genres into numeric labels\n",
    "\n",
    "# Now you can proceed to split the data\n",
    "from sklearn.model_selection import train_test_split\n",
    "\n",
    "# Split data: 80% training, 20% testing\n",
    "X_train, X_test, y_train, y_test = train_test_split(X, y, test_size=0.2, random_state=42)\n",
    "\n",
    "print(X_train.shape, X_test.shape)  # Check the shape of X and y\n"
   ]
  },
  {
   "cell_type": "code",
   "execution_count": null,
   "id": "144ea49b-cab4-433b-89b5-96cc63c8bec7",
   "metadata": {},
   "outputs": [],
   "source": []
  },
  {
   "cell_type": "code",
   "execution_count": null,
   "id": "da0c0c10-f590-41ff-b6fd-1da6fdb67916",
   "metadata": {},
   "outputs": [],
   "source": []
  },
  {
   "cell_type": "markdown",
   "id": "fef1de6a-fdd2-4891-817b-a3b27645c91d",
   "metadata": {},
   "source": [
    "# 8. Choose and Train a Classification Model\n",
    " \n",
    " * You can experiment with different classifiers. We'll cover three popular ones:\n",
    "\n",
    "    * Naive Bayes\n",
    "    * Logistic Regression\n",
    "    * Support Vector Machines (SVM)"
   ]
  },
  {
   "cell_type": "code",
   "execution_count": null,
   "id": "a92630d4-4456-4678-8e5e-44ae5b2a84a5",
   "metadata": {},
   "outputs": [],
   "source": [
    "# 1) Naive Bayes"
   ]
  },
  {
   "cell_type": "code",
   "execution_count": 45,
   "id": "1aead03a-cfa1-41fd-af78-86154c01a0b2",
   "metadata": {},
   "outputs": [
    {
     "name": "stdout",
     "output_type": "stream",
     "text": [
      "Naive Bayes Accuracy: 0.2299179193950014\n",
      "               precision    recall  f1-score   support\n",
      "\n",
      "      action        0.08      0.24      0.12       263\n",
      "       adult        0.11      0.19      0.14       112\n",
      "   adventure        0.04      0.12      0.06       139\n",
      "   animation        0.05      0.11      0.07       104\n",
      "   biography        0.00      0.00      0.00        61\n",
      "      comedy        0.38      0.18      0.24      1443\n",
      "       crime        0.03      0.07      0.04       107\n",
      " documentary        0.68      0.42      0.52      2659\n",
      "       drama        0.51      0.15      0.23      2697\n",
      "      family        0.05      0.18      0.08       150\n",
      "     fantasy        0.03      0.04      0.03        74\n",
      "   game-show        0.43      0.07      0.13        40\n",
      "     history        0.02      0.02      0.02        45\n",
      "      horror        0.13      0.25      0.17       431\n",
      "       music        0.16      0.28      0.21       144\n",
      "     musical        0.01      0.02      0.02        50\n",
      "     mystery        0.01      0.02      0.01        56\n",
      "        news        0.00      0.00      0.00        34\n",
      "  reality-tv        0.08      0.24      0.13       192\n",
      "     romance        0.04      0.12      0.05       151\n",
      "      sci-fi        0.09      0.14      0.11       143\n",
      "       short        0.18      0.16      0.17      1045\n",
      "       sport        0.16      0.14      0.15        93\n",
      "   talk-show        0.07      0.07      0.07        81\n",
      "    thriller        0.05      0.20      0.09       309\n",
      "         war        0.07      0.05      0.06        20\n",
      "     western        0.38      0.43      0.40       200\n",
      "\n",
      "     accuracy                           0.23     10843\n",
      "    macro avg       0.14      0.15      0.12     10843\n",
      " weighted avg       0.39      0.23      0.27     10843\n",
      "\n"
     ]
    }
   ],
   "source": [
    "from sklearn.naive_bayes import GaussianNB\n",
    "from sklearn.metrics import classification_report, accuracy_score\n",
    "\n",
    "# Check if X_train and X_test are sparse. If they are, convert them.\n",
    "if hasattr(X_train, 'toarray'):\n",
    "    X_train_dense = X_train.toarray()  # If X_train is sparse\n",
    "    X_test_dense = X_test.toarray()    # If X_test is sparse\n",
    "else:\n",
    "    X_train_dense = X_train  # Already dense\n",
    "    X_test_dense = X_test    # Already dense\n",
    "\n",
    "# Initialize the Gaussian Naive Bayes classifier\n",
    "nb_classifier = GaussianNB()\n",
    "\n",
    "# Fit the model to the training data\n",
    "nb_classifier.fit(X_train_dense, y_train)\n",
    "\n",
    "# Predict on the test data\n",
    "y_pred_nb = nb_classifier.predict(X_test_dense)\n",
    "\n",
    "# Evaluate the model\n",
    "print(\"Naive Bayes Accuracy:\", accuracy_score(y_test, y_pred_nb))\n",
    "\n",
    "# Print the detailed classification report with zero_division handling\n",
    "print(classification_report(y_test, y_pred_nb, target_names=le.classes_, zero_division=1))"
   ]
  },
  {
   "cell_type": "code",
   "execution_count": null,
   "id": "1b46a322-2409-4614-84fa-5134050018d5",
   "metadata": {},
   "outputs": [],
   "source": []
  },
  {
   "cell_type": "code",
   "execution_count": null,
   "id": "14e1aa4a-4a09-48aa-a777-2c1de545caed",
   "metadata": {},
   "outputs": [],
   "source": [
    "# 2) Logistic Regression"
   ]
  },
  {
   "cell_type": "code",
   "execution_count": 47,
   "id": "4f9e7fd7-4019-487e-a813-712636332739",
   "metadata": {},
   "outputs": [
    {
     "name": "stdout",
     "output_type": "stream",
     "text": [
      "Logistic Regression Accuracy: 0.45310338467213873\n",
      "               precision    recall  f1-score   support\n",
      "\n",
      "      action        0.30      0.41      0.35       263\n",
      "       adult        0.31      0.65      0.42       112\n",
      "   adventure        0.16      0.32      0.22       139\n",
      "   animation        0.19      0.32      0.24       104\n",
      "   biography        0.03      0.10      0.05        61\n",
      "      comedy        0.61      0.44      0.51      1443\n",
      "       crime        0.13      0.34      0.19       107\n",
      " documentary        0.81      0.54      0.65      2659\n",
      "       drama        0.73      0.36      0.49      2697\n",
      "      family        0.12      0.29      0.17       150\n",
      "     fantasy        0.09      0.16      0.12        74\n",
      "   game-show        0.62      0.75      0.68        40\n",
      "     history        0.05      0.20      0.08        45\n",
      "      horror        0.55      0.68      0.60       431\n",
      "       music        0.37      0.77      0.50       144\n",
      "     musical        0.10      0.26      0.14        50\n",
      "     mystery        0.08      0.21      0.11        56\n",
      "        news        0.08      0.21      0.11        34\n",
      "  reality-tv        0.30      0.59      0.40       192\n",
      "     romance        0.11      0.42      0.18       151\n",
      "      sci-fi        0.27      0.48      0.35       143\n",
      "       short        0.44      0.37      0.40      1045\n",
      "       sport        0.32      0.77      0.46        93\n",
      "   talk-show        0.20      0.43      0.27        81\n",
      "    thriller        0.26      0.35      0.30       309\n",
      "         war        0.08      0.35      0.13        20\n",
      "     western        0.69      0.88      0.77       200\n",
      "\n",
      "     accuracy                           0.45     10843\n",
      "    macro avg       0.30      0.43      0.33     10843\n",
      " weighted avg       0.59      0.45      0.49     10843\n",
      "\n"
     ]
    }
   ],
   "source": [
    "from sklearn.linear_model import LogisticRegression\n",
    "from sklearn.metrics import classification_report, accuracy_score\n",
    "\n",
    "# Initialize the Logistic Regression model\n",
    "lr_classifier = LogisticRegression(max_iter=1000, class_weight='balanced')  # Use class weights to handle imbalance\n",
    "\n",
    "# Train the model\n",
    "lr_classifier.fit(X_train, y_train)\n",
    "\n",
    "# Predict\n",
    "y_pred_lr = lr_classifier.predict(X_test)\n",
    "\n",
    "# Evaluate\n",
    "print(\"Logistic Regression Accuracy:\", accuracy_score(y_test, y_pred_lr))\n",
    "\n",
    "# Handle undefined precision with zero_division=1\n",
    "print(classification_report(y_test, y_pred_lr, target_names=le.classes_, zero_division=1))\n"
   ]
  },
  {
   "cell_type": "code",
   "execution_count": null,
   "id": "8146864d-67ea-4d90-b89a-9ecbf9c78e51",
   "metadata": {},
   "outputs": [],
   "source": []
  },
  {
   "cell_type": "code",
   "execution_count": null,
   "id": "f4ca8809-3521-4267-ad38-69a8090002ea",
   "metadata": {},
   "outputs": [],
   "source": [
    "# 3) Support Vector Machines (SVM)"
   ]
  },
  {
   "cell_type": "code",
   "execution_count": 48,
   "id": "68921e64-d44f-4ccd-93f9-a9b515c1d1ed",
   "metadata": {},
   "outputs": [
    {
     "name": "stdout",
     "output_type": "stream",
     "text": [
      "SVM Accuracy: 0.48409111869408833\n",
      "               precision    recall  f1-score   support\n",
      "\n",
      "      action        0.27      0.40      0.32       263\n",
      "       adult        0.32      0.54      0.40       112\n",
      "   adventure        0.16      0.31      0.21       139\n",
      "   animation        0.14      0.22      0.17       104\n",
      "   biography        0.01      0.02      0.01        61\n",
      "      comedy        0.59      0.48      0.53      1443\n",
      "       crime        0.11      0.21      0.14       107\n",
      " documentary        0.76      0.66      0.71      2659\n",
      "       drama        0.67      0.44      0.53      2697\n",
      "      family        0.13      0.27      0.18       150\n",
      "     fantasy        0.08      0.15      0.10        74\n",
      "   game-show        0.63      0.68      0.65        40\n",
      "     history        0.04      0.07      0.05        45\n",
      "      horror        0.51      0.66      0.57       431\n",
      "       music        0.38      0.69      0.49       144\n",
      "     musical        0.12      0.28      0.17        50\n",
      "     mystery        0.04      0.09      0.06        56\n",
      "        news        0.11      0.18      0.14        34\n",
      "  reality-tv        0.28      0.48      0.36       192\n",
      "     romance        0.11      0.22      0.15       151\n",
      "      sci-fi        0.28      0.45      0.34       143\n",
      "       short        0.42      0.33      0.37      1045\n",
      "       sport        0.37      0.58      0.45        93\n",
      "   talk-show        0.25      0.42      0.31        81\n",
      "    thriller        0.22      0.30      0.26       309\n",
      "         war        0.07      0.15      0.09        20\n",
      "     western        0.69      0.84      0.76       200\n",
      "\n",
      "     accuracy                           0.48     10843\n",
      "    macro avg       0.29      0.37      0.32     10843\n",
      " weighted avg       0.55      0.48      0.51     10843\n",
      "\n"
     ]
    }
   ],
   "source": [
    "from sklearn.svm import LinearSVC\n",
    "from sklearn.metrics import classification_report, accuracy_score\n",
    "\n",
    "# Initialize the LinearSVC model with explicit 'dual' parameter\n",
    "svm_classifier = LinearSVC(class_weight='balanced', max_iter=10000, dual=False)  # Set dual=False for better performance with many samples\n",
    "\n",
    "# Train the model\n",
    "svm_classifier.fit(X_train, y_train)\n",
    "\n",
    "# Predict\n",
    "y_pred_svm = svm_classifier.predict(X_test)\n",
    "\n",
    "# Evaluate\n",
    "print(\"SVM Accuracy:\", accuracy_score(y_test, y_pred_svm))\n",
    "\n",
    "# Handle undefined precision with zero_division=1\n",
    "print(classification_report(y_test, y_pred_svm, target_names=le.classes_, zero_division=1))\n",
    "\n"
   ]
  },
  {
   "cell_type": "code",
   "execution_count": null,
   "id": "f2849534-3526-4cc9-b169-a5074ba2895f",
   "metadata": {},
   "outputs": [],
   "source": []
  },
  {
   "cell_type": "code",
   "execution_count": null,
   "id": "85d0d8bb-8787-4128-8528-0f97dae8b31b",
   "metadata": {},
   "outputs": [],
   "source": []
  },
  {
   "cell_type": "markdown",
   "id": "2a6c2a73-7a1d-4a3d-b5f0-df6fb05b9816",
   "metadata": {},
   "source": [
    "# 9. Evaluate and Compare Models\n",
    "\n",
    "* Compare the accuracy and other metrics like precision, recall, and F1-score to determine which model performs best."
   ]
  },
  {
   "cell_type": "code",
   "execution_count": 51,
   "id": "8bbfd413-59a6-439f-8bf1-bf6e8ec2f5da",
   "metadata": {},
   "outputs": [
    {
     "name": "stdout",
     "output_type": "stream",
     "text": [
      "Naive Bayes Accuracy: 0.2299179193950014\n",
      "               precision    recall  f1-score   support\n",
      "\n",
      "      action        0.08      0.24      0.12       263\n",
      "       adult        0.11      0.19      0.14       112\n",
      "   adventure        0.04      0.12      0.06       139\n",
      "   animation        0.05      0.11      0.07       104\n",
      "   biography        0.00      0.00      0.00        61\n",
      "      comedy        0.38      0.18      0.24      1443\n",
      "       crime        0.03      0.07      0.04       107\n",
      " documentary        0.68      0.42      0.52      2659\n",
      "       drama        0.51      0.15      0.23      2697\n",
      "      family        0.05      0.18      0.08       150\n",
      "     fantasy        0.03      0.04      0.03        74\n",
      "   game-show        0.43      0.07      0.13        40\n",
      "     history        0.02      0.02      0.02        45\n",
      "      horror        0.13      0.25      0.17       431\n",
      "       music        0.16      0.28      0.21       144\n",
      "     musical        0.01      0.02      0.02        50\n",
      "     mystery        0.01      0.02      0.01        56\n",
      "        news        0.00      0.00      0.00        34\n",
      "  reality-tv        0.08      0.24      0.13       192\n",
      "     romance        0.04      0.12      0.05       151\n",
      "      sci-fi        0.09      0.14      0.11       143\n",
      "       short        0.18      0.16      0.17      1045\n",
      "       sport        0.16      0.14      0.15        93\n",
      "   talk-show        0.07      0.07      0.07        81\n",
      "    thriller        0.05      0.20      0.09       309\n",
      "         war        0.07      0.05      0.06        20\n",
      "     western        0.38      0.43      0.40       200\n",
      "\n",
      "     accuracy                           0.23     10843\n",
      "    macro avg       0.14      0.15      0.12     10843\n",
      " weighted avg       0.39      0.23      0.27     10843\n",
      "\n",
      "Logistic Regression Accuracy: 0.45310338467213873\n",
      "               precision    recall  f1-score   support\n",
      "\n",
      "      action        0.30      0.41      0.35       263\n",
      "       adult        0.31      0.65      0.42       112\n",
      "   adventure        0.16      0.32      0.22       139\n",
      "   animation        0.19      0.32      0.24       104\n",
      "   biography        0.03      0.10      0.05        61\n",
      "      comedy        0.61      0.44      0.51      1443\n",
      "       crime        0.13      0.34      0.19       107\n",
      " documentary        0.81      0.54      0.65      2659\n",
      "       drama        0.73      0.36      0.49      2697\n",
      "      family        0.12      0.29      0.17       150\n",
      "     fantasy        0.09      0.16      0.12        74\n",
      "   game-show        0.62      0.75      0.68        40\n",
      "     history        0.05      0.20      0.08        45\n",
      "      horror        0.55      0.68      0.60       431\n",
      "       music        0.37      0.77      0.50       144\n",
      "     musical        0.10      0.26      0.14        50\n",
      "     mystery        0.08      0.21      0.11        56\n",
      "        news        0.08      0.21      0.11        34\n",
      "  reality-tv        0.30      0.59      0.40       192\n",
      "     romance        0.11      0.42      0.18       151\n",
      "      sci-fi        0.27      0.48      0.35       143\n",
      "       short        0.44      0.37      0.40      1045\n",
      "       sport        0.32      0.77      0.46        93\n",
      "   talk-show        0.20      0.43      0.27        81\n",
      "    thriller        0.26      0.35      0.30       309\n",
      "         war        0.08      0.35      0.13        20\n",
      "     western        0.69      0.88      0.77       200\n",
      "\n",
      "     accuracy                           0.45     10843\n",
      "    macro avg       0.30      0.43      0.33     10843\n",
      " weighted avg       0.59      0.45      0.49     10843\n",
      "\n",
      "SVM Accuracy: 0.48409111869408833\n",
      "               precision    recall  f1-score   support\n",
      "\n",
      "      action        0.27      0.40      0.32       263\n",
      "       adult        0.32      0.54      0.40       112\n",
      "   adventure        0.16      0.31      0.21       139\n",
      "   animation        0.14      0.22      0.17       104\n",
      "   biography        0.01      0.02      0.01        61\n",
      "      comedy        0.59      0.48      0.53      1443\n",
      "       crime        0.11      0.21      0.14       107\n",
      " documentary        0.76      0.66      0.71      2659\n",
      "       drama        0.67      0.44      0.53      2697\n",
      "      family        0.13      0.27      0.18       150\n",
      "     fantasy        0.08      0.15      0.10        74\n",
      "   game-show        0.63      0.68      0.65        40\n",
      "     history        0.04      0.07      0.05        45\n",
      "      horror        0.50      0.66      0.57       431\n",
      "       music        0.38      0.69      0.49       144\n",
      "     musical        0.12      0.28      0.17        50\n",
      "     mystery        0.04      0.09      0.06        56\n",
      "        news        0.11      0.18      0.14        34\n",
      "  reality-tv        0.28      0.48      0.36       192\n",
      "     romance        0.11      0.22      0.15       151\n",
      "      sci-fi        0.28      0.45      0.34       143\n",
      "       short        0.42      0.33      0.37      1045\n",
      "       sport        0.37      0.58      0.45        93\n",
      "   talk-show        0.25      0.42      0.31        81\n",
      "    thriller        0.22      0.30      0.26       309\n",
      "         war        0.07      0.15      0.09        20\n",
      "     western        0.69      0.84      0.76       200\n",
      "\n",
      "     accuracy                           0.48     10843\n",
      "    macro avg       0.29      0.37      0.32     10843\n",
      " weighted avg       0.55      0.48      0.51     10843\n",
      "\n"
     ]
    }
   ],
   "source": [
    "from sklearn.metrics import classification_report, accuracy_score\n",
    "from sklearn.linear_model import LogisticRegression\n",
    "from sklearn.svm import LinearSVC\n",
    "from sklearn.naive_bayes import GaussianNB\n",
    "\n",
    "\n",
    "\n",
    "# Naive Bayes Classifier\n",
    "# Example: Using Gaussian Naive Bayes\n",
    "# Assuming you're using a vectorizer that produces sparse matrices\n",
    "X_train = X_train.toarray()  # Convert sparse matrix to dense array\n",
    "X_test = X_test.toarray()  # Convert sparse matrix to dense array\n",
    "\n",
    "# Initialize the Naive Bayes Classifier\n",
    "nb_classifier = GaussianNB()\n",
    "\n",
    "# Train the Naive Bayes Classifier\n",
    "nb_classifier.fit(X_train, y_train)\n",
    "\n",
    "# Make predictions and evaluate\n",
    "y_pred_nb = nb_classifier.predict(X_test)\n",
    "print(\"Naive Bayes Accuracy:\", accuracy_score(y_test, y_pred_nb))\n",
    "print(classification_report(y_test, y_pred_nb, target_names=le.classes_, zero_division=1))\n",
    "\n",
    "\n",
    "\n",
    "\n",
    "# Logistic Regression Classifier\n",
    "lr_classifier = LogisticRegression(max_iter=1000, class_weight='balanced')\n",
    "lr_classifier.fit(X_train, y_train)\n",
    "y_pred_lr = lr_classifier.predict(X_test)\n",
    "print(\"Logistic Regression Accuracy:\", accuracy_score(y_test, y_pred_lr))\n",
    "print(classification_report(y_test, y_pred_lr, target_names=le.classes_, zero_division=1))\n",
    "\n",
    "# Support Vector Machine (LinearSVC) Classifier\n",
    "svm_classifier = LinearSVC(class_weight='balanced', max_iter=10000, dual=False)\n",
    "svm_classifier.fit(X_train, y_train)\n",
    "y_pred_svm = svm_classifier.predict(X_test)\n",
    "print(\"SVM Accuracy:\", accuracy_score(y_test, y_pred_svm))\n",
    "print(classification_report(y_test, y_pred_svm, target_names=le.classes_, zero_division=1))\n"
   ]
  },
  {
   "cell_type": "code",
   "execution_count": null,
   "id": "7818b0c1-5958-416a-a086-4f873837b85d",
   "metadata": {},
   "outputs": [],
   "source": [
    "# In this example, Logistic Regression  performed the best with an accuracy of 45%."
   ]
  },
  {
   "cell_type": "code",
   "execution_count": null,
   "id": "6d7cf35e-d5d4-47d8-8793-7878c553cec9",
   "metadata": {},
   "outputs": [],
   "source": []
  },
  {
   "cell_type": "code",
   "execution_count": null,
   "id": "f0488d4e-0762-44eb-aba0-1c05660e742c",
   "metadata": {},
   "outputs": [],
   "source": []
  },
  {
   "cell_type": "markdown",
   "id": "6a58619a-23f3-4e18-b7ba-c11f3a32df6b",
   "metadata": {},
   "source": [
    "# 10. Improve the Model\n",
    "Once you have a baseline model, you can work on improving its performance.\n",
    "\n",
    "* A. Hyperparameter Tuning\n",
    "\n",
    "Use techniques like Grid Search or Random Search to find the best hyperparameters.\n"
   ]
  },
  {
   "cell_type": "code",
   "execution_count": null,
   "id": "7354b7b5-ae13-4a32-bf8e-b28eedff7e79",
   "metadata": {},
   "outputs": [],
   "source": []
  },
  {
   "cell_type": "code",
   "execution_count": null,
   "id": "01033e14-0a5b-4ddd-9ce8-8e6560aa6e87",
   "metadata": {},
   "outputs": [
    {
     "name": "stdout",
     "output_type": "stream",
     "text": [
      "Best Parameters for Naive Bayes: {'alpha': 0.1}\n",
      "Best Cross-Validation Accuracy for Naive Bayes: 0.5412372514766379\n",
      "Tuned Naive Bayes Accuracy: 0.5472655169233607\n",
      "               precision    recall  f1-score   support\n",
      "\n",
      "      action        0.57      0.21      0.31       263\n",
      "       adult        0.71      0.22      0.34       112\n",
      "   adventure        0.42      0.09      0.15       139\n",
      "   animation        0.67      0.06      0.11       104\n",
      "   biography        1.00      0.00      0.00        61\n",
      "      comedy        0.51      0.47      0.49      1443\n",
      "       crime        0.50      0.01      0.02       107\n",
      " documentary        0.60      0.86      0.71      2659\n",
      "       drama        0.48      0.81      0.60      2697\n",
      "      family        0.67      0.04      0.08       150\n",
      "     fantasy        0.00      0.00      0.00        74\n",
      "   game-show        1.00      0.45      0.62        40\n",
      "     history        1.00      0.00      0.00        45\n",
      "      horror        0.75      0.43      0.55       431\n",
      "       music        0.64      0.49      0.55       144\n",
      "     musical        1.00      0.00      0.00        50\n",
      "     mystery        1.00      0.00      0.00        56\n",
      "        news        1.00      0.00      0.00        34\n",
      "  reality-tv        0.56      0.10      0.17       192\n",
      "     romance        1.00      0.00      0.00       151\n",
      "      sci-fi        0.57      0.17      0.27       143\n",
      "       short        0.55      0.15      0.24      1045\n",
      "       sport        0.70      0.28      0.40        93\n",
      "   talk-show        0.64      0.11      0.19        81\n",
      "    thriller        0.34      0.05      0.09       309\n",
      "         war        1.00      0.05      0.10        20\n",
      "     western        0.94      0.76      0.84       200\n",
      "\n",
      "     accuracy                           0.55     10843\n",
      "    macro avg       0.70      0.22      0.25     10843\n",
      " weighted avg       0.57      0.55      0.49     10843\n",
      "\n"
     ]
    }
   ],
   "source": [
    "from sklearn.model_selection import GridSearchCV\n",
    "from sklearn.metrics import classification_report, accuracy_score\n",
    "from sklearn.linear_model import LogisticRegression\n",
    "from sklearn.svm import LinearSVC\n",
    "from sklearn.naive_bayes import MultinomialNB\n",
    "\n",
    "# Grid Search for Naive Bayes Classifier\n",
    "param_grid_nb = {\n",
    "    'alpha': [0.1, 1.0, 10]  # Example range for Laplace smoothing parameter\n",
    "}\n",
    "\n",
    "nb_classifier = MultinomialNB()\n",
    "\n",
    "# Initialize GridSearchCV for Naive Bayes\n",
    "grid_nb = GridSearchCV(nb_classifier, param_grid_nb, cv=5, scoring='accuracy')\n",
    "\n",
    "# Fit the model\n",
    "grid_nb.fit(X_train, y_train)\n",
    "\n",
    "print(\"Best Parameters for Naive Bayes:\", grid_nb.best_params_)\n",
    "print(\"Best Cross-Validation Accuracy for Naive Bayes:\", grid_nb.best_score_)\n",
    "\n",
    "# Evaluate on Test Set for Naive Bayes\n",
    "best_nb = grid_nb.best_estimator_\n",
    "y_pred_best_nb = best_nb.predict(X_test)\n",
    "print(\"Tuned Naive Bayes Accuracy:\", accuracy_score(y_test, y_pred_best_nb))\n",
    "print(classification_report(y_test, y_pred_best_nb, target_names=le.classes_, zero_division=1))\n",
    "\n",
    "# Grid Search for Logistic Regression\n",
    "param_grid_lr = {\n",
    "    'C': [0.1, 1, 10],  # Regularization strength\n",
    "    'solver': ['newton-cg', 'lbfgs', 'liblinear']  # Solvers for optimization\n",
    "}\n",
    "\n",
    "lr_classifier = LogisticRegression(max_iter=1000, class_weight='balanced')\n",
    "\n",
    "# Initialize GridSearchCV for Logistic Regression\n",
    "grid_lr = GridSearchCV(lr_classifier, param_grid_lr, cv=5, scoring='accuracy')\n",
    "\n",
    "# Fit the model\n",
    "grid_lr.fit(X_train, y_train)\n",
    "\n",
    "print(\"Best Parameters for Logistic Regression:\", grid_lr.best_params_)\n",
    "print(\"Best Cross-Validation Accuracy for Logistic Regression:\", grid_lr.best_score_)\n",
    "\n",
    "# Evaluate on Test Set for Logistic Regression\n",
    "best_lr = grid_lr.best_estimator_\n",
    "y_pred_best_lr = best_lr.predict(X_test)\n",
    "print(\"Tuned Logistic Regression Accuracy:\", accuracy_score(y_test, y_pred_best_lr))\n",
    "print(classification_report(y_test, y_pred_best_lr, target_names=le.classes_, zero_division=1))\n",
    "\n",
    "# Grid Search for SVM (LinearSVC)\n",
    "param_grid_svm = {\n",
    "    'C': [0.1, 1, 10],  # Regularization parameter\n",
    "    'max_iter': [1000, 10000],  # Number of iterations for convergence\n",
    "    'dual': [False]  # For better performance with many samples\n",
    "}\n",
    "\n",
    "svm_classifier = LinearSVC(class_weight='balanced')\n",
    "\n",
    "# Initialize GridSearchCV for LinearSVC\n",
    "grid_svm = GridSearchCV(svm_classifier, param_grid_svm, cv=5, scoring='accuracy')\n",
    "\n",
    "# Fit the model\n",
    "grid_svm.fit(X_train, y_train)\n",
    "\n",
    "print(\"Best Parameters for SVM:\", grid_svm.best_params_)\n",
    "print(\"Best Cross-Validation Accuracy for SVM:\", grid_svm.best_score_)\n",
    "\n",
    "# Evaluate on Test Set for SVM\n",
    "best_svm = grid_svm.best_estimator_\n",
    "y_pred_best_svm = best_svm.predict(X_test)\n",
    "print(\"Tuned SVM Accuracy:\", accuracy_score(y_test, y_pred_best_svm))\n",
    "print(classification_report(y_test, y_pred_best_svm, target_names=le.classes_, zero_division=1))\n"
   ]
  },
  {
   "cell_type": "code",
   "execution_count": null,
   "id": "8f5d81e5-740b-4749-a78a-3049fa47db7e",
   "metadata": {},
   "outputs": [],
   "source": []
  },
  {
   "cell_type": "code",
   "execution_count": null,
   "id": "2ac27a8b-b476-43d8-9c83-5162288ee7ae",
   "metadata": {},
   "outputs": [],
   "source": []
  },
  {
   "cell_type": "markdown",
   "id": "7091870f-fb2a-4553-82bc-b5093410507b",
   "metadata": {},
   "source": [
    "### B. Feature Engineering\n",
    "\n",
    "Increase max_features in TF-IDF: Capture more vocabulary.\n",
    "N-grams: Include bigrams or trigrams to capture phrase information.\n",
    "\n"
   ]
  },
  {
   "cell_type": "code",
   "execution_count": 31,
   "id": "faa91ff3-0564-45c6-a4bc-3cee8dcb1447",
   "metadata": {},
   "outputs": [],
   "source": [
    "tfidf = TfidfVectorizer(max_features=10000, ngram_range=(1,2))  # Includes unigrams and bigrams\n",
    "X = tfidf.fit_transform(df['clean_DESCRIPTION'])"
   ]
  },
  {
   "cell_type": "code",
   "execution_count": null,
   "id": "f7c288a1-98bd-46b7-9d1a-c0ff53978ab6",
   "metadata": {},
   "outputs": [],
   "source": []
  },
  {
   "cell_type": "markdown",
   "id": "06b706b5-19be-485c-912c-50f9059d0288",
   "metadata": {},
   "source": [
    "### C. Use Advanced Models\n",
    "\n",
    "* Ensemble Methods: Combine multiple models to improve performance (e.g., Random Forest, Gradient Boosting).\n",
    "* Deep Learning Models: Utilize models like Recurrent Neural Networks (RNNs) or Transformers for better text understanding.\n",
    "\n",
    "\n",
    "### D. Handle Class Imbalance\n",
    "\n",
    "* If some genres are underrepresented, consider techniques like:\n",
    "    \n",
    "    * Oversampling: Duplicate minority class samples.\n",
    "    * Undersampling: Remove majority class samples.\n",
    "    * Use Class Weights: Assign higher weights to minority classes in the loss function."
   ]
  },
  {
   "cell_type": "code",
   "execution_count": null,
   "id": "8d2baee5-aed6-4f49-a995-91af21927501",
   "metadata": {},
   "outputs": [],
   "source": []
  },
  {
   "cell_type": "markdown",
   "id": "8269d16f-60ab-49b2-b39b-0a05e91dfd94",
   "metadata": {},
   "source": [
    "# Conclusion:\n",
    "\n",
    "The movie genre classification task showed different levels of success across models. SVM performed better than Logistic Regression and Naive Bayes initially, with an accuracy of `48.4%`. After tuning, `Naive Bayes` reached `54.7%`, showing the value of optimizing parameters. Genres like documentary and western performed well, while others, such as biography and mystery, faced challenges due to data and model limitations."
   ]
  },
  {
   "cell_type": "code",
   "execution_count": null,
   "id": "f041927d-b8dc-43d1-9927-528b441400bd",
   "metadata": {},
   "outputs": [],
   "source": []
  },
  {
   "cell_type": "code",
   "execution_count": null,
   "id": "22c2fc15-0b16-4df4-8e14-8da047ebefdb",
   "metadata": {},
   "outputs": [],
   "source": []
  },
  {
   "cell_type": "code",
   "execution_count": null,
   "id": "f7cd90da-8713-4f0d-ae23-06637546d912",
   "metadata": {},
   "outputs": [],
   "source": []
  }
 ],
 "metadata": {
  "kernelspec": {
   "display_name": "Python 3 (ipykernel)",
   "language": "python",
   "name": "python3"
  },
  "language_info": {
   "codemirror_mode": {
    "name": "ipython",
    "version": 3
   },
   "file_extension": ".py",
   "mimetype": "text/x-python",
   "name": "python",
   "nbconvert_exporter": "python",
   "pygments_lexer": "ipython3",
   "version": "3.12.3"
  }
 },
 "nbformat": 4,
 "nbformat_minor": 5
}
